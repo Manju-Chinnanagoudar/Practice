{
 "cells": [
  {
   "cell_type": "code",
   "execution_count": 1,
   "metadata": {},
   "outputs": [
    {
     "name": "stdout",
     "output_type": "stream",
     "text": [
      "1: ADDITION\n",
      "2: SUBTRACTION\n",
      "3: MULTIPLICATION\n",
      "4: DIVITION\n",
      "0: QUIT\n",
      "ENTER THE CORRESPONDING NUMBER FOR CALCULATION 0\n"
     ]
    }
   ],
   "source": [
    "def add():\n",
    "        print (\"Enter the two numbers to Add\")\n",
    "        A=int(input(\"Enter A: \"))\n",
    "        B=int(input(\"Enter B: \"))\n",
    "        return A + B \n",
    "\n",
    "def sub():\n",
    "        print (\"Enter the two numbers to Subtract\")\n",
    "        A=int(input(\"Enter A: \"))\n",
    "        B=int(input(\"Enter B: \"))\n",
    "        return A - B\n",
    "\n",
    "def mul():\n",
    "        print (\"Enter the two numbers to Multiply\")\n",
    "        A=int(input(\"Enter A: \"))\n",
    "        B=int(input(\"Enter B: \"))\n",
    "        return A * B\n",
    "\n",
    "def div():\n",
    "        print (\"Enter the two number to Divide\")\n",
    "        A=float(input(\"Enter A: \"))\n",
    "        B=float(input(\"Enter B: \"))\n",
    "        return A / B\n",
    "\n",
    "print (\"1: ADDITION\")\n",
    "print (\"2: SUBTRACTION\")\n",
    "print (\"3: MULTIPLICATION\")\n",
    "print (\"4: DIVITION\")\n",
    "print (\"0: QUIT\")\n",
    "\n",
    "while True:\n",
    "\n",
    "    CHOICE = int(input(\"ENTER THE CORRESPONDING NUMBER FOR CALCULATION \")) \n",
    "\n",
    "    if CHOICE == 1: \n",
    "        print ('ADDING TWO NUMBERS:')\n",
    "        print (add())\n",
    "\n",
    "    elif CHOICE == 2:\n",
    "        print ('SUBTRACTING TWO NUMBERS')\n",
    "        print (sub())\n",
    "\n",
    "    elif CHOICE == 3:\n",
    "        print ('MULTIPLYING TWO NUMBERS')\n",
    "        print (mul())\n",
    "\n",
    "    elif CHOICE == 4:\n",
    "        print (\"DIVIDEING TWO NUMBERS\")\n",
    "        print (div())\n",
    "\n",
    "    elif CHOICE == 0:\n",
    "        break\n",
    "    else:\n",
    "        print (\"The value Enter value from 1-4\")"
   ]
  },
  {
   "cell_type": "code",
   "execution_count": null,
   "metadata": {},
   "outputs": [],
   "source": []
  }
 ],
 "metadata": {
  "kernelspec": {
   "display_name": "Python 3",
   "language": "python",
   "name": "python3"
  },
  "language_info": {
   "codemirror_mode": {
    "name": "ipython",
    "version": 3
   },
   "file_extension": ".py",
   "mimetype": "text/x-python",
   "name": "python",
   "nbconvert_exporter": "python",
   "pygments_lexer": "ipython3",
   "version": "3.7.1"
  }
 },
 "nbformat": 4,
 "nbformat_minor": 2
}
